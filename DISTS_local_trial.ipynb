{
 "cells": [
  {
   "cell_type": "code",
   "execution_count": 3,
   "metadata": {},
   "outputs": [],
   "source": [
    "import matplotlib.pyplot as plt\n",
    "import torch\n",
    "from torchvision import datasets, transforms\n",
    "from DISTS_pytorch import DISTS\n",
    "from PIL import Image\n",
    "\n",
    "import os\n",
    "\n",
    "from pandas import *\n",
    "import numpy as np\n",
    "from scipy.io import loadmat, savemat"
   ]
  },
  {
   "cell_type": "code",
   "execution_count": 4,
   "metadata": {},
   "outputs": [],
   "source": [
    "mask_ = loadmat('maskMat_isolated.mat')\n",
    "#print(mask_)\n",
    "mask = mask_['maskMat_isolated']"
   ]
  },
  {
   "cell_type": "code",
   "execution_count": 5,
   "metadata": {},
   "outputs": [],
   "source": [
    "\n",
    "D = DISTS()\n",
    "convert_tensor = transforms.ToTensor()"
   ]
  },
  {
   "cell_type": "code",
   "execution_count": 20,
   "metadata": {},
   "outputs": [],
   "source": [
    "def cut_rectangle(prod,region):\n",
    "    minx = prod.shape[2]\n",
    "    miny = prod.shape[3]\n",
    "    maxx = 0\n",
    "    maxy = 0\n",
    "\n",
    "    #prod has shape ([1, 3, 512, 512])\n",
    "    #and you want to cut in the 512x512 bit.\n",
    "\n",
    "\n",
    "\n",
    "    for k in range(region.shape[0]):\n",
    "        for j in range(region.shape[1]):\n",
    "            if prod[0,0,k,j]>0 or prod[0,1,k,j]>0 or prod[0,2,k,j]>0:\n",
    "                if  minx>k:\n",
    "                    minx = k\n",
    "                elif maxx<k:\n",
    "                    maxx = k\n",
    "                if miny>j:\n",
    "                    miny = j\n",
    "                elif maxy<j:\n",
    "                    maxy = j\n",
    "\n",
    "\n",
    "    regx = prod[:,:,minx:maxx,miny:maxy]\n",
    "    return regx,minx,maxx,miny,maxy\n"
   ]
  },
  {
   "cell_type": "code",
   "execution_count": 12,
   "metadata": {},
   "outputs": [],
   "source": [
    "X = Image.open(\"datasave/original_images/fleamarket.jpg\") #freeman metamer as reference\n",
    "X = convert_tensor(X)\n",
    "X = X[None,:]\n",
    "\n",
    "Y = Image.open(\"datasave/img0_2/small_before_img_4_localloops.png\") #freeman metamer as reference\n",
    "Y = convert_tensor(Y)\n",
    "Y = Y[None,:]"
   ]
  },
  {
   "cell_type": "code",
   "execution_count": 22,
   "metadata": {},
   "outputs": [
    {
     "name": "stdout",
     "output_type": "stream",
     "text": [
      "torch.Size([1, 3, 512, 512]) torch.Size([3, 512, 512])\n",
      "torch.Size([1, 3, 512, 512]) torch.Size([3, 512, 512])\n"
     ]
    },
    {
     "ename": "KeyboardInterrupt",
     "evalue": "",
     "output_type": "error",
     "traceback": [
      "\u001b[1;31m---------------------------------------------------------------------------\u001b[0m",
      "\u001b[1;31mKeyboardInterrupt\u001b[0m                         Traceback (most recent call last)",
      "\u001b[1;32mC:\\Users\\RAPHIK~1\\AppData\\Local\\Temp/ipykernel_20420/3206718678.py\u001b[0m in \u001b[0;36m<module>\u001b[1;34m\u001b[0m\n\u001b[0;32m     19\u001b[0m     \u001b[0mtemp_y\u001b[0m\u001b[1;33m[\u001b[0m\u001b[1;36m0\u001b[0m\u001b[1;33m]\u001b[0m \u001b[1;33m=\u001b[0m \u001b[0mtorch\u001b[0m\u001b[1;33m.\u001b[0m\u001b[0mmul\u001b[0m\u001b[1;33m(\u001b[0m\u001b[0mY\u001b[0m\u001b[1;33m[\u001b[0m\u001b[1;36m0\u001b[0m\u001b[1;33m,\u001b[0m\u001b[1;33m:\u001b[0m\u001b[1;33m,\u001b[0m\u001b[1;33m:\u001b[0m\u001b[1;33m,\u001b[0m\u001b[1;33m:\u001b[0m\u001b[1;33m]\u001b[0m\u001b[1;33m,\u001b[0m\u001b[0mmask_stacked\u001b[0m\u001b[1;33m)\u001b[0m\u001b[1;33m\u001b[0m\u001b[1;33m\u001b[0m\u001b[0m\n\u001b[0;32m     20\u001b[0m \u001b[1;33m\u001b[0m\u001b[0m\n\u001b[1;32m---> 21\u001b[1;33m     \u001b[0mregy\u001b[0m\u001b[1;33m,\u001b[0m\u001b[0mminx\u001b[0m\u001b[1;33m,\u001b[0m\u001b[0mmaxx\u001b[0m\u001b[1;33m,\u001b[0m\u001b[0mminy\u001b[0m\u001b[1;33m,\u001b[0m\u001b[0mmaxy\u001b[0m \u001b[1;33m=\u001b[0m \u001b[0mcut_rectangle\u001b[0m\u001b[1;33m(\u001b[0m\u001b[0mtemp_x\u001b[0m\u001b[1;33m,\u001b[0m\u001b[0mregion\u001b[0m\u001b[1;33m)\u001b[0m\u001b[1;33m\u001b[0m\u001b[1;33m\u001b[0m\u001b[0m\n\u001b[0m\u001b[0;32m     22\u001b[0m \u001b[1;33m\u001b[0m\u001b[0m\n\u001b[0;32m     23\u001b[0m     \u001b[0mX_cut\u001b[0m \u001b[1;33m=\u001b[0m  \u001b[0mX\u001b[0m\u001b[1;33m[\u001b[0m\u001b[1;33m:\u001b[0m\u001b[1;33m,\u001b[0m\u001b[1;33m:\u001b[0m\u001b[1;33m,\u001b[0m\u001b[0mminx\u001b[0m\u001b[1;33m:\u001b[0m\u001b[0mmaxx\u001b[0m\u001b[1;33m,\u001b[0m\u001b[0mminy\u001b[0m\u001b[1;33m:\u001b[0m\u001b[0mmaxy\u001b[0m\u001b[1;33m]\u001b[0m\u001b[1;33m\u001b[0m\u001b[1;33m\u001b[0m\u001b[0m\n",
      "\u001b[1;32mC:\\Users\\RAPHIK~1\\AppData\\Local\\Temp/ipykernel_20420/3063560022.py\u001b[0m in \u001b[0;36mcut_rectangle\u001b[1;34m(prod, region)\u001b[0m\n\u001b[0;32m     12\u001b[0m     \u001b[1;32mfor\u001b[0m \u001b[0mk\u001b[0m \u001b[1;32min\u001b[0m \u001b[0mrange\u001b[0m\u001b[1;33m(\u001b[0m\u001b[0mregion\u001b[0m\u001b[1;33m.\u001b[0m\u001b[0mshape\u001b[0m\u001b[1;33m[\u001b[0m\u001b[1;36m0\u001b[0m\u001b[1;33m]\u001b[0m\u001b[1;33m)\u001b[0m\u001b[1;33m:\u001b[0m\u001b[1;33m\u001b[0m\u001b[1;33m\u001b[0m\u001b[0m\n\u001b[0;32m     13\u001b[0m         \u001b[1;32mfor\u001b[0m \u001b[0mj\u001b[0m \u001b[1;32min\u001b[0m \u001b[0mrange\u001b[0m\u001b[1;33m(\u001b[0m\u001b[0mregion\u001b[0m\u001b[1;33m.\u001b[0m\u001b[0mshape\u001b[0m\u001b[1;33m[\u001b[0m\u001b[1;36m1\u001b[0m\u001b[1;33m]\u001b[0m\u001b[1;33m)\u001b[0m\u001b[1;33m:\u001b[0m\u001b[1;33m\u001b[0m\u001b[1;33m\u001b[0m\u001b[0m\n\u001b[1;32m---> 14\u001b[1;33m             \u001b[1;32mif\u001b[0m \u001b[0mprod\u001b[0m\u001b[1;33m[\u001b[0m\u001b[1;36m0\u001b[0m\u001b[1;33m,\u001b[0m\u001b[1;36m0\u001b[0m\u001b[1;33m,\u001b[0m\u001b[0mk\u001b[0m\u001b[1;33m,\u001b[0m\u001b[0mj\u001b[0m\u001b[1;33m]\u001b[0m\u001b[1;33m>\u001b[0m\u001b[1;36m0\u001b[0m \u001b[1;32mor\u001b[0m \u001b[0mprod\u001b[0m\u001b[1;33m[\u001b[0m\u001b[1;36m0\u001b[0m\u001b[1;33m,\u001b[0m\u001b[1;36m1\u001b[0m\u001b[1;33m,\u001b[0m\u001b[0mk\u001b[0m\u001b[1;33m,\u001b[0m\u001b[0mj\u001b[0m\u001b[1;33m]\u001b[0m\u001b[1;33m>\u001b[0m\u001b[1;36m0\u001b[0m \u001b[1;32mor\u001b[0m \u001b[0mprod\u001b[0m\u001b[1;33m[\u001b[0m\u001b[1;36m0\u001b[0m\u001b[1;33m,\u001b[0m\u001b[1;36m2\u001b[0m\u001b[1;33m,\u001b[0m\u001b[0mk\u001b[0m\u001b[1;33m,\u001b[0m\u001b[0mj\u001b[0m\u001b[1;33m]\u001b[0m\u001b[1;33m>\u001b[0m\u001b[1;36m0\u001b[0m\u001b[1;33m:\u001b[0m\u001b[1;33m\u001b[0m\u001b[1;33m\u001b[0m\u001b[0m\n\u001b[0m\u001b[0;32m     15\u001b[0m                 \u001b[1;32mif\u001b[0m  \u001b[0mminx\u001b[0m\u001b[1;33m>\u001b[0m\u001b[0mk\u001b[0m\u001b[1;33m:\u001b[0m\u001b[1;33m\u001b[0m\u001b[1;33m\u001b[0m\u001b[0m\n\u001b[0;32m     16\u001b[0m                     \u001b[0mminx\u001b[0m \u001b[1;33m=\u001b[0m \u001b[0mk\u001b[0m\u001b[1;33m\u001b[0m\u001b[1;33m\u001b[0m\u001b[0m\n",
      "\u001b[1;31mKeyboardInterrupt\u001b[0m: "
     ]
    }
   ],
   "source": [
    "#code-wise, can I make a local DISTS model?\n",
    "#probably yes. But I don't want to mask the DISTS network because \n",
    "#I don't know where I would do that. So I could use the segmenting code I have from previous iteration\n",
    "#or just the idea from it anyway and do a quick test run, see if it's what Arturo wants :P\n",
    "x_cutted = []\n",
    "y_cutted = []\n",
    "\n",
    "DISTS_final = 0\n",
    "for region in mask: \n",
    "    #here, the shape of X is torch.Size([1, 3, 512, 512])\n",
    "    region = torch.tensor(region)\n",
    "    mask_stacked = region.repeat(3,1,1)\n",
    "    \n",
    "    temp_x = torch.zeros(X.shape)\n",
    "    temp_x[0] = torch.mul(X[0,:,:,:],mask_stacked)\n",
    "   \n",
    "    temp_y = torch.zeros(Y.shape)\n",
    "    temp_y[0] = torch.mul(Y[0,:,:,:],mask_stacked)\n",
    "\n",
    "    regy,minx,maxx,miny,maxy = cut_rectangle(temp_x,region)\n",
    "\n",
    "    X_cut =  X[:,:,minx:maxx,miny:maxy]\n",
    "    Y_cut =  Y[:,:,minx:maxx,miny:maxy]\n",
    "\n",
    "    #ok now given that this works, how we gonna compare?\n",
    "    #compute dists scores for each portions of the image. Then scale and sum\n",
    "\n",
    "\n",
    "    dists_value = D(X_cut,Y_cut)\n",
    "    DISTS_final += dists_value * (np.count_nonzero(region)/(512*512))\n",
    "\n",
    "\n",
    "\n"
   ]
  }
 ],
 "metadata": {
  "kernelspec": {
   "display_name": "Python 3.7.11 ('generator')",
   "language": "python",
   "name": "python3"
  },
  "language_info": {
   "codemirror_mode": {
    "name": "ipython",
    "version": 3
   },
   "file_extension": ".py",
   "mimetype": "text/x-python",
   "name": "python",
   "nbconvert_exporter": "python",
   "pygments_lexer": "ipython3",
   "version": "3.7.11"
  },
  "orig_nbformat": 4,
  "vscode": {
   "interpreter": {
    "hash": "a2251b74b55f7d0d0468df5ae209d3d3b472deefdfc14ef52df35f4dec2994e2"
   }
  }
 },
 "nbformat": 4,
 "nbformat_minor": 2
}
