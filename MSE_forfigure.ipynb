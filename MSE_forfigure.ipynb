{
 "cells": [
  {
   "cell_type": "code",
   "execution_count": 1,
   "metadata": {},
   "outputs": [],
   "source": [
    "import matplotlib.pyplot as plt\n",
    "from PIL import Image\n",
    "\n",
    "import os\n",
    "\n",
    "from pandas import *\n",
    "import numpy as np\n",
    "from scipy.io import loadmat, savemat"
   ]
  },
  {
   "cell_type": "code",
   "execution_count": 5,
   "metadata": {},
   "outputs": [],
   "source": [
    "import cv2"
   ]
  },
  {
   "cell_type": "code",
   "execution_count": 13,
   "metadata": {},
   "outputs": [],
   "source": [
    "style_dir = 'datasave/img0_2'\n",
    "style_list = [style_dir + '/' + f for f in os.listdir(style_dir) if os.path.isfile(os.path.join(style_dir, f))]\n"
   ]
  },
  {
   "cell_type": "code",
   "execution_count": 14,
   "metadata": {},
   "outputs": [],
   "source": [
    "OG_img = 'datasave/original_images/fleamarket.jpg'"
   ]
  },
  {
   "cell_type": "code",
   "execution_count": 26,
   "metadata": {},
   "outputs": [],
   "source": [
    "def mse(imageA, imageB):\n",
    "\t# the 'Mean Squared Error' between the two images is the\n",
    "\t# sum of the squared difference between the two images;\n",
    "\t# NOTE: the two images must have the same dimension\n",
    "\terr = np.sum((imageA.astype(\"float\")/255 - imageB.astype(\"float\")/255) ** 2)\n",
    "\tf = imageA.astype(\"float\")\n",
    "\tg = np.array(f)\n",
    "\t#print(g.shape)\n",
    "\terr /= float(imageA.shape[0] * imageA.shape[1])\n",
    "\t\n",
    "\t# return the MSE, the lower the error, the more \"similar\"\n",
    "\t# the two images are\n",
    "\treturn err"
   ]
  },
  {
   "cell_type": "code",
   "execution_count": 27,
   "metadata": {},
   "outputs": [
    {
     "name": "stdout",
     "output_type": "stream",
     "text": [
      "[0.0012502525531984394, 0.00821783867307646, 0.005893586953297706, 0.004361642487733836, 0.003321870527373786, 0.002598080867897863, 0.00210564149521443, 0.001764885690843816, 0.0015337280015311119, 0.001365237941837274, 0.0017239954800662611, 0.011588022069993365, 0.008298590812991098, 0.006131736934299609, 0.004659134139926652, 0.0036350977984541694, 0.002936766850677925, 0.0024543612611060044, 0.0021258859366739954, 0.0018868468276173834, 0.01276369762897308, 0.1520441310930967, 0.10580952938773548, 0.0765817058934289, 0.05817824519537634, 0.04431225053258514, 0.03378827926242686, 0.02581878908502739, 0.02009411111880796, 0.01588733360704116, 0.01801701992669962, 0.2151369206165635, 0.14968181353447674, 0.10831917997050038, 0.08227684563648144, 0.06265806867635419, 0.047766491319068995, 0.03649224151881187, 0.028390683852815013, 0.02243793838072722]\n"
     ]
    }
   ],
   "source": [
    "res_list = []\n",
    "style_list = ['datasave/freemanresults/fleamarket_freemanresult.png']\n",
    "for i in style_list:\n",
    "    X = cv2.imread(i)\n",
    "    Y = cv2.imread(OG_img)\n",
    "    m = mse(X, Y)\n",
    "    res_list.append(m)\n",
    "print(res_list)"
   ]
  },
  {
   "cell_type": "code",
   "execution_count": 28,
   "metadata": {},
   "outputs": [
    {
     "name": "stdout",
     "output_type": "stream",
     "text": [
      "[0.1520441310930967, 0.10580952938773548, 0.0765817058934289, 0.05817824519537634, 0.04431225053258514, 0.03378827926242686, 0.02581878908502739, 0.02009411111880796, 0.01588733360704116, 0.01801701992669962, 0.2151369206165635, 0.14968181353447674, 0.10831917997050038, 0.08227684563648144, 0.06265806867635419, 0.047766491319068995, 0.03649224151881187, 0.028390683852815013, 0.02243793838072722]\n"
     ]
    }
   ],
   "source": [
    "print(res_list[21:])"
   ]
  },
  {
   "cell_type": "code",
   "execution_count": 8,
   "metadata": {},
   "outputs": [],
   "source": [
    "m = mse(X, Y)"
   ]
  }
 ],
 "metadata": {
  "kernelspec": {
   "display_name": "Python 3.7.11 ('generator')",
   "language": "python",
   "name": "python3"
  },
  "language_info": {
   "codemirror_mode": {
    "name": "ipython",
    "version": 3
   },
   "file_extension": ".py",
   "mimetype": "text/x-python",
   "name": "python",
   "nbconvert_exporter": "python",
   "pygments_lexer": "ipython3",
   "version": "3.7.11"
  },
  "orig_nbformat": 4,
  "vscode": {
   "interpreter": {
    "hash": "a2251b74b55f7d0d0468df5ae209d3d3b472deefdfc14ef52df35f4dec2994e2"
   }
  }
 },
 "nbformat": 4,
 "nbformat_minor": 2
}
